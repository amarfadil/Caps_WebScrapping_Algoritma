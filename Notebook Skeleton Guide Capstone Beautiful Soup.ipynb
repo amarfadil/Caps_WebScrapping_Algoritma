{
 "cells": [
  {
   "cell_type": "markdown",
   "metadata": {},
   "source": [
    "# Capstone Webscrapping using BeautifulSoup - Data kurs US Dollar ke rupiah\n",
    "\n",
    "This notebook contains guidances & tasks on the data processing for the application\n",
    "\n",
    "## Project Background, Objective and Workflow\n",
    "\n",
    "### Project Background\n",
    "The project is focused on webscraping exchange rates data of US Dollar to Indonesian Rupiah from the website https://www.exchange-rates.org/exchange-rate-history/usd-idr using the BeautifulSoup library. The data is then cleaned and visualized using pandas and matplotlib libraries. The aim of the project is to extract useful insights from the exchange rate data and to present it in a meaningful way to the stakeholders.\n",
    "\n",
    "### Project Objective\n",
    "The main objective of the project is to perform web scraping using BeautifulSoup library on the website https://www.exchange-rates.org/exchange-rate-history/usd-idr to extract the exchange rate data of US Dollar to Indonesian Rupiah. The extracted data is then cleaned and visualized to provide useful insights to the stakeholders.\n",
    "\n",
    "### Project Workflow\n",
    "The project follows the following workflow:\n",
    "\n",
    "1. Importing the required libraries such as requests, BeautifulSoup, pandas, and matplotlib.\n",
    "2. Sending a request to the website using requests library.\n",
    "3. Parsing the HTML content using BeautifulSoup library.\n",
    "4. Extracting the exchange rate data from the parsed HTML content.\n",
    "5. Cleaning the extracted data by removing unwanted characters and converting data types.\n",
    "6. Visualizing the cleaned data using matplotlib library.\n",
    "\n",
    "***\n",
    "\n",
    "## Import Module\n",
    "This code imports four different modules in Python: requests, BeautifulSoup, pandas, and matplotlib.pyplot."
   ]
  },
  {
   "cell_type": "code",
   "execution_count": 2,
   "metadata": {},
   "outputs": [],
   "source": [
    "import requests\n",
    "from bs4 import BeautifulSoup\n",
    "import pandas as pd\n",
    "import matplotlib.pyplot as plt"
   ]
  },
  {
   "cell_type": "markdown",
   "metadata": {},
   "source": [
    "- **requests** is a module that allows Python to send HTTP requests to a website and receive responses. This is often used in web scraping to collect data from websites.\n",
    "\n",
    "- **BeautifulSoup** is a Python library that allows for easy parsing and navigation of HTML and XML documents. This can be helpful when scraping data from websites and extracting specific information.\n",
    "\n",
    "- **pandas** is a data manipulation library in Python that provides various data structures and functions to work with tabular data, like spreadsheets or databases.\n",
    "\n",
    "- **matplotlib.pyplot** is a plotting library in Python that provides various functions to create different types of charts and plots, like bar charts, line graphs, and histograms.\n",
    "\n",
    "Overall, these modules are commonly used together in data science and web scraping projects to collect, manipulate, and visualize data."
   ]
  },
  {
   "cell_type": "markdown",
   "metadata": {},
   "source": [
    "## Requesting the Data and Creating a BeautifulSoup\n",
    "\n",
    "Let's begin with requesting the web from the site with `get` method."
   ]
  },
  {
   "cell_type": "code",
   "execution_count": 3,
   "metadata": {
    "ExecuteTime": {
     "end_time": "2020-01-13T05:12:23.275508Z",
     "start_time": "2020-01-13T05:12:20.009898Z"
    }
   },
   "outputs": [],
   "source": [
    "url_get = requests.get('https://www.exchange-rates.org/exchange-rate-history/usd-idr')"
   ]
  },
  {
   "cell_type": "markdown",
   "metadata": {},
   "source": [
    "To visualize what exactly you get from the `request.get`, we can use .content so ee what we exactly get, in here i slice it so it won't make our screen full of the html we get from the page. You can delete the slicing if you want to see what we fully get."
   ]
  },
  {
   "cell_type": "code",
   "execution_count": 4,
   "metadata": {
    "ExecuteTime": {
     "end_time": "2020-01-13T05:12:23.290648Z",
     "start_time": "2020-01-13T05:12:23.277650Z"
    }
   },
   "outputs": [
    {
     "data": {
      "text/plain": [
       "b'!DOCTYPE html>\\r\\n<!--[if lt IE 9]>\\r\\n<html class=\"no-js ie8 oldie\" lang=\"en\" xml:lang=\\'en\\'>\\r\\n<![endif]-->\\r\\n<!--[if gt IE 8]><!--><html class=\"no-js\" lang=\"en\" xml:lang=\\'en\\'><!--<![endif]-->\\r\\n<head>\\r\\n<title>USD to IDR exchange rate history</title>\\r\\n<meta http-equiv=\"X-UA-Compatible\" content=\"IE=edge\">\\r\\n<meta name=\"viewport\" content=\"width=device-width, initial-scale=1, maximum-scale=5\">\\r\\n<meta charset=\"utf-8\" /><meta http-equiv=\"Content-Type\" content=\"text/html; charset=utf-8\" />\\r\\n<base href=\"http'"
      ]
     },
     "execution_count": 4,
     "metadata": {},
     "output_type": "execute_result"
    }
   ],
   "source": [
    "url_get.content[1:500]"
   ]
  },
  {
   "cell_type": "markdown",
   "metadata": {},
   "source": [
    "As we can see we get a very unstructured and complex html, which actually contains the codes needed to show the webpages on your web browser. But we as human still confused what and where we can use that piece of code, so here where we use the beautifulsoup. Beautiful soup class will result a beautifulsoup object. Beautiful Soup transforms a complex HTML document into a complex tree of Python objects. \n",
    "\n",
    "Let's make Beautiful soup object and feel free to explore the object here."
   ]
  },
  {
   "cell_type": "code",
   "execution_count": 5,
   "metadata": {
    "ExecuteTime": {
     "end_time": "2020-01-13T05:12:23.808122Z",
     "start_time": "2020-01-13T05:12:23.292610Z"
    }
   },
   "outputs": [],
   "source": [
    "soup = BeautifulSoup(url_get.content,\"html.parser\")"
   ]
  },
  {
   "cell_type": "markdown",
   "metadata": {},
   "source": [
    "## Finding the right key to scrap the data & Extracting the right information"
   ]
  },
  {
   "cell_type": "markdown",
   "metadata": {},
   "source": [
    "Find the key and put the key into the `.find()` Put all the exploring the right key at this cell."
   ]
  },
  {
   "cell_type": "code",
   "execution_count": 13,
   "metadata": {
    "ExecuteTime": {
     "end_time": "2020-01-13T05:12:23.878904Z",
     "start_time": "2020-01-13T05:12:23.854974Z"
    }
   },
   "outputs": [
    {
     "name": "stdout",
     "output_type": "stream",
     "text": [
      "table border=\"0\" cellpadding=\"0\" cellspacing=\"0\" class=\"history-rates-data\">\n",
      " <thead>\n",
      "  <tr>\n",
      "   <th class=\"ltr-bidi-fix\">\n",
      "    Date\n",
      "   </th>\n",
      "   <th class=\"ltr-bidi-fix\">\n",
      "    US Dollar to Indonesian Rupiah\n",
      "   </th>\n",
      "  </tr>\n",
      " </thead>\n",
      " <tbody>\n",
      "  <tr>\n",
      "   <td>\n",
      "    <a class=\"w\" href=\"/exchange-rate-history/usd-idr-2023-04-13\">\n",
      "     April 13, 2023\n",
      "    </a>\n",
      "    <a class=\"n\" href=\"/exchange-rate-history/usd-idr-2023-04-13\">\n",
      "     2023-4-13\n",
      "    </a>\n",
      "   </td>\n",
      "   <td>\n",
      "    <span class=\"w\">\n",
      "     <span class=\"n\n"
     ]
    }
   ],
   "source": [
    "table = soup.find('table', attrs={'class':'history-rates-data'})\n",
    "if table:\n",
    "    print(table.prettify()[1:500])\n",
    "else:\n",
    "    print(\"Could not find element\")"
   ]
  },
  {
   "cell_type": "markdown",
   "metadata": {},
   "source": [
    "This code is using the Python library **BeautifulSoup** to search for a specific table element on a webpage.\n",
    "\n",
    "- First, it searches for a table element with the class attribute \"history-rates-data\" using the find method from the **BeautifulSoup**  library. It stores the result in the table variable.\n",
    "\n",
    "- Next, the code checks if a table element was found by using an if statement to check if table has a value (i.e., it is not None). \n",
    "  - If a table element was found, the code prints the prettified HTML content of the first 500 characters of the table using the prettify() method of the BeautifulSoup library.\n",
    "  - If a table element was not found, the code prints \"Could not find element\".\n",
    "\n",
    "Overall, this code is used in web scraping to check if a specific table element is present on a webpage and print its content if it exists. It's a useful way to verify that the webpage has the expected content before attempting to extract specific data from the table."
   ]
  },
  {
   "cell_type": "markdown",
   "metadata": {},
   "source": [
    "## Finding row length."
   ]
  },
  {
   "cell_type": "code",
   "execution_count": 7,
   "metadata": {},
   "outputs": [
    {
     "data": {
      "text/plain": [
       "129"
      ]
     },
     "execution_count": 7,
     "metadata": {},
     "output_type": "execute_result"
    }
   ],
   "source": [
    "row = table.find_all('a', attrs={'class':'w'})\n",
    "row_length = len(row)\n",
    "row_length"
   ]
  },
  {
   "cell_type": "markdown",
   "metadata": {},
   "source": [
    "This code is used in web scraping to extract data from a webpage.\n",
    "\n",
    "- The code uses the **find_all** method from the BeautifulSoup library to search for all the anchor elements (a tags) with the class attribute \"w\" within a table element. It stores the result in the row variable, which is a list of **BeautifulSoup** Tag objects.\n",
    "\n",
    "- Next, the code uses the built-in len function in Python to get the length of the row list. The length of the list is stored in the row_length variable.\n"
   ]
  },
  {
   "cell_type": "markdown",
   "metadata": {},
   "source": [
    "## Looping Process"
   ]
  },
  {
   "cell_type": "code",
   "execution_count": 8,
   "metadata": {
    "ExecuteTime": {
     "end_time": "2020-01-13T05:12:24.008256Z",
     "start_time": "2020-01-13T05:12:23.980358Z"
    }
   },
   "outputs": [
    {
     "data": {
      "text/plain": [
       "[('2023-4-13', '$1 = Rp14,722'),\n",
       " ('2023-4-12', '$1 = Rp14,835'),\n",
       " ('2023-4-11', '$1 = Rp14,915'),\n",
       " ('2023-4-10', '$1 = Rp14,950'),\n",
       " ('2023-4-7', '$1 = Rp14,941'),\n",
       " ('2023-4-6', '$1 = Rp14,931'),\n",
       " ('2023-4-5', '$1 = Rp14,960'),\n",
       " ('2023-4-4', '$1 = Rp14,957'),\n",
       " ('2023-4-3', '$1 = Rp14,922'),\n",
       " ('2023-3-31', '$1 = Rp14,969'),\n",
       " ('2023-3-30', '$1 = Rp15,024'),\n",
       " ('2023-3-29', '$1 = Rp15,034'),\n",
       " ('2023-3-28', '$1 = Rp15,060'),\n",
       " ('2023-3-27', '$1 = Rp15,107'),\n",
       " ('2023-3-24', '$1 = Rp15,165'),\n",
       " ('2023-3-23', '$1 = Rp15,085'),\n",
       " ('2023-3-22', '$1 = Rp15,253'),\n",
       " ('2023-3-21', '$1 = Rp15,301'),\n",
       " ('2023-3-20', '$1 = Rp15,343'),\n",
       " ('2023-3-17', '$1 = Rp15,375'),\n",
       " ('2023-3-16', '$1 = Rp15,429'),\n",
       " ('2023-3-15', '$1 = Rp15,459'),\n",
       " ('2023-3-14', '$1 = Rp15,380'),\n",
       " ('2023-3-13', '$1 = Rp15,416'),\n",
       " ('2023-3-10', '$1 = Rp15,503'),\n",
       " ('2023-3-9', '$1 = Rp15,495'),\n",
       " ('2023-3-8', '$1 = Rp15,449'),\n",
       " ('2023-3-7', '$1 = Rp15,429'),\n",
       " ('2023-3-6', '$1 = Rp15,354'),\n",
       " ('2023-3-3', '$1 = Rp15,278'),\n",
       " ('2023-3-2', '$1 = Rp15,322'),\n",
       " ('2023-3-1', '$1 = Rp15,249'),\n",
       " ('2023-2-28', '$1 = Rp15,241'),\n",
       " ('2023-2-27', '$1 = Rp15,216'),\n",
       " ('2023-2-24', '$1 = Rp15,265'),\n",
       " ('2023-2-23', '$1 = Rp15,211'),\n",
       " ('2023-2-22', '$1 = Rp15,197'),\n",
       " ('2023-2-21', '$1 = Rp15,235'),\n",
       " ('2023-2-20', '$1 = Rp15,168'),\n",
       " ('2023-2-17', '$1 = Rp15,166'),\n",
       " ('2023-2-16', '$1 = Rp15,144'),\n",
       " ('2023-2-15', '$1 = Rp15,205'),\n",
       " ('2023-2-14', '$1 = Rp15,186'),\n",
       " ('2023-2-13', '$1 = Rp15,216'),\n",
       " ('2023-2-10', '$1 = Rp15,188'),\n",
       " ('2023-2-9', '$1 = Rp15,147'),\n",
       " ('2023-2-8', '$1 = Rp15,133'),\n",
       " ('2023-2-7', '$1 = Rp15,154'),\n",
       " ('2023-2-6', '$1 = Rp15,198'),\n",
       " ('2023-2-3', '$1 = Rp15,095'),\n",
       " ('2023-2-2', '$1 = Rp14,907'),\n",
       " ('2023-2-1', '$1 = Rp14,896'),\n",
       " ('2023-1-31', '$1 = Rp15,002'),\n",
       " ('2023-1-30', '$1 = Rp15,013'),\n",
       " ('2023-1-27', '$1 = Rp14,973'),\n",
       " ('2023-1-26', '$1 = Rp14,955'),\n",
       " ('2023-1-25', '$1 = Rp14,940'),\n",
       " ('2023-1-24', '$1 = Rp14,956'),\n",
       " ('2023-1-23', '$1 = Rp15,026'),\n",
       " ('2023-1-20', '$1 = Rp15,063'),\n",
       " ('2023-1-19', '$1 = Rp15,154'),\n",
       " ('2023-1-18', '$1 = Rp15,138'),\n",
       " ('2023-1-17', '$1 = Rp15,180'),\n",
       " ('2023-1-16', '$1 = Rp15,126'),\n",
       " ('2023-1-13', '$1 = Rp15,115'),\n",
       " ('2023-1-12', '$1 = Rp15,206'),\n",
       " ('2023-1-11', '$1 = Rp15,432'),\n",
       " ('2023-1-10', '$1 = Rp15,536'),\n",
       " ('2023-1-9', '$1 = Rp15,596'),\n",
       " ('2023-1-6', '$1 = Rp15,607'),\n",
       " ('2023-1-5', '$1 = Rp15,635'),\n",
       " ('2023-1-4', '$1 = Rp15,582'),\n",
       " ('2023-1-3', '$1 = Rp15,594'),\n",
       " ('2023-1-2', '$1 = Rp15,554'),\n",
       " ('2022-12-30', '$1 = Rp15,534'),\n",
       " ('2022-12-29', '$1 = Rp15,627'),\n",
       " ('2022-12-28', '$1 = Rp15,789'),\n",
       " ('2022-12-27', '$1 = Rp15,620'),\n",
       " ('2022-12-26', '$1 = Rp15,621'),\n",
       " ('2022-12-23', '$1 = Rp15,582'),\n",
       " ('2022-12-22', '$1 = Rp15,574'),\n",
       " ('2022-12-21', '$1 = Rp15,540'),\n",
       " ('2022-12-20', '$1 = Rp15,564'),\n",
       " ('2022-12-19', '$1 = Rp15,568'),\n",
       " ('2022-12-16', '$1 = Rp15,616'),\n",
       " ('2022-12-15', '$1 = Rp15,629'),\n",
       " ('2022-12-14', '$1 = Rp15,543'),\n",
       " ('2022-12-13', '$1 = Rp15,560'),\n",
       " ('2022-12-12', '$1 = Rp15,676'),\n",
       " ('2022-12-9', '$1 = Rp15,604'),\n",
       " ('2022-12-8', '$1 = Rp15,594'),\n",
       " ('2022-12-7', '$1 = Rp15,612'),\n",
       " ('2022-12-6', '$1 = Rp15,625'),\n",
       " ('2022-12-5', '$1 = Rp15,520'),\n",
       " ('2022-12-2', '$1 = Rp15,376'),\n",
       " ('2022-12-1', '$1 = Rp15,389'),\n",
       " ('2022-11-30', '$1 = Rp15,633'),\n",
       " ('2022-11-29', '$1 = Rp15,734'),\n",
       " ('2022-11-28', '$1 = Rp15,743'),\n",
       " ('2022-11-25', '$1 = Rp15,693'),\n",
       " ('2022-11-24', '$1 = Rp15,647'),\n",
       " ('2022-11-23', '$1 = Rp15,626'),\n",
       " ('2022-11-22', '$1 = Rp15,664'),\n",
       " ('2022-11-21', '$1 = Rp15,741'),\n",
       " ('2022-11-18', '$1 = Rp15,641'),\n",
       " ('2022-11-17', '$1 = Rp15,714'),\n",
       " ('2022-11-16', '$1 = Rp15,639'),\n",
       " ('2022-11-15', '$1 = Rp15,557'),\n",
       " ('2022-11-14', '$1 = Rp15,554'),\n",
       " ('2022-11-11', '$1 = Rp15,474'),\n",
       " ('2022-11-10', '$1 = Rp15,520'),\n",
       " ('2022-11-9', '$1 = Rp15,692'),\n",
       " ('2022-11-8', '$1 = Rp15,638'),\n",
       " ('2022-11-7', '$1 = Rp15,685'),\n",
       " ('2022-11-4', '$1 = Rp15,615'),\n",
       " ('2022-11-3', '$1 = Rp15,790'),\n",
       " ('2022-11-2', '$1 = Rp15,685'),\n",
       " ('2022-11-1', '$1 = Rp15,674'),\n",
       " ('2022-10-31', '$1 = Rp15,624'),\n",
       " ('2022-10-28', '$1 = Rp15,557'),\n",
       " ('2022-10-27', '$1 = Rp15,560'),\n",
       " ('2022-10-26', '$1 = Rp15,503'),\n",
       " ('2022-10-25', '$1 = Rp15,533'),\n",
       " ('2022-10-24', '$1 = Rp15,598'),\n",
       " ('2022-10-21', '$1 = Rp15,537'),\n",
       " ('2022-10-20', '$1 = Rp15,562'),\n",
       " ('2022-10-19', '$1 = Rp15,587'),\n",
       " ('2022-10-18', '$1 = Rp15,474'),\n",
       " ('2022-10-17', '$1 = Rp15,441')]"
      ]
     },
     "execution_count": 8,
     "metadata": {},
     "output_type": "execute_result"
    }
   ],
   "source": [
    "temp = [] #init\n",
    "\n",
    "for i in range(0, row_length):\n",
    "    \n",
    "    #get Period\n",
    "    period = table.find_all('a', attrs={'class':'n'})[i].text\n",
    "    \n",
    "    #get inflation yoy\n",
    "    price = table.find_all('span', attrs={'class':'w'})[i].text\n",
    "    price = price.strip() #to remove excess white space\n",
    "    \n",
    "    temp.append((period, price)) \n",
    "    \n",
    "temp "
   ]
  },
  {
   "cell_type": "markdown",
   "metadata": {},
   "source": [
    "This code is also used in web scraping to extract data from a table element on a webpage.\n",
    "\n",
    "- First, the code initializes an empty list called temp using temp = [].\n",
    "\n",
    "- Next, the code uses a for loop to iterate over a range of numbers from 0 to the value stored in row_length. row_length is assumed to be the number of anchor elements with the class attribute \"w\" within a specific table element on the webpage.\n",
    "\n",
    "  - Inside the for loop, the code extracts data from the table element for each iteration. It uses the **find_all** method from the **BeautifulSoup** library to search for the anchor elements with the class attribute \"n\" and \"w\" to get the period and the inflation rate, respectively. It uses the text attribute to extract the text content of the elements.\n",
    "  - **Strip()** method is used to remove any excess whitespace from the inflation rate before storing it in the price variable.\n",
    "\n",
    "- Finally, the code creates a tuple with the period and the inflation rate and appends it to the temp list using the append() method. The temp list now contains a list of tuples, where each tuple represents a row of data from the table.\n",
    "\n",
    "The code then prints the temp list, which displays the extracted data from the table in a readable format.\n",
    "\n",
    "Overall, this code is used to extract and store specific data from a table element on a webpage. It's a common technique used in web scraping to extract structured data from HTML documents."
   ]
  },
  {
   "cell_type": "markdown",
   "metadata": {},
   "source": [
    "## Creating data frame & Data wrangling"
   ]
  },
  {
   "cell_type": "markdown",
   "metadata": {},
   "source": [
    "Put the array into dataframe"
   ]
  },
  {
   "cell_type": "code",
   "execution_count": 9,
   "metadata": {
    "ExecuteTime": {
     "end_time": "2020-01-13T05:12:41.517372Z",
     "start_time": "2020-01-13T05:12:29.130015Z"
    }
   },
   "outputs": [
    {
     "data": {
      "text/html": [
       "<div>\n",
       "<style scoped>\n",
       "    .dataframe tbody tr th:only-of-type {\n",
       "        vertical-align: middle;\n",
       "    }\n",
       "\n",
       "    .dataframe tbody tr th {\n",
       "        vertical-align: top;\n",
       "    }\n",
       "\n",
       "    .dataframe thead th {\n",
       "        text-align: right;\n",
       "    }\n",
       "</style>\n",
       "<table border=\"1\" class=\"dataframe\">\n",
       "  <thead>\n",
       "    <tr style=\"text-align: right;\">\n",
       "      <th></th>\n",
       "      <th>period</th>\n",
       "      <th>price</th>\n",
       "    </tr>\n",
       "  </thead>\n",
       "  <tbody>\n",
       "    <tr>\n",
       "      <th>0</th>\n",
       "      <td>2023-4-13</td>\n",
       "      <td>$1 = Rp14,722</td>\n",
       "    </tr>\n",
       "    <tr>\n",
       "      <th>1</th>\n",
       "      <td>2023-4-12</td>\n",
       "      <td>$1 = Rp14,835</td>\n",
       "    </tr>\n",
       "    <tr>\n",
       "      <th>2</th>\n",
       "      <td>2023-4-11</td>\n",
       "      <td>$1 = Rp14,915</td>\n",
       "    </tr>\n",
       "    <tr>\n",
       "      <th>3</th>\n",
       "      <td>2023-4-10</td>\n",
       "      <td>$1 = Rp14,950</td>\n",
       "    </tr>\n",
       "    <tr>\n",
       "      <th>4</th>\n",
       "      <td>2023-4-7</td>\n",
       "      <td>$1 = Rp14,941</td>\n",
       "    </tr>\n",
       "  </tbody>\n",
       "</table>\n",
       "</div>"
      ],
      "text/plain": [
       "      period          price\n",
       "0  2023-4-13  $1 = Rp14,722\n",
       "1  2023-4-12  $1 = Rp14,835\n",
       "2  2023-4-11  $1 = Rp14,915\n",
       "3  2023-4-10  $1 = Rp14,950\n",
       "4   2023-4-7  $1 = Rp14,941"
      ]
     },
     "execution_count": 9,
     "metadata": {},
     "output_type": "execute_result"
    }
   ],
   "source": [
    "import pandas as pd\n",
    "\n",
    "df = pd.DataFrame(temp, columns = ('period','price'))\n",
    "df.head()"
   ]
  },
  {
   "cell_type": "markdown",
   "metadata": {},
   "source": [
    "## Data Wrangling & Cleaning"
   ]
  },
  {
   "cell_type": "code",
   "execution_count": 10,
   "metadata": {
    "ExecuteTime": {
     "end_time": "2020-01-13T05:12:59.165559Z",
     "start_time": "2020-01-13T05:12:58.910012Z"
    }
   },
   "outputs": [
    {
     "data": {
      "text/html": [
       "<div>\n",
       "<style scoped>\n",
       "    .dataframe tbody tr th:only-of-type {\n",
       "        vertical-align: middle;\n",
       "    }\n",
       "\n",
       "    .dataframe tbody tr th {\n",
       "        vertical-align: top;\n",
       "    }\n",
       "\n",
       "    .dataframe thead th {\n",
       "        text-align: right;\n",
       "    }\n",
       "</style>\n",
       "<table border=\"1\" class=\"dataframe\">\n",
       "  <thead>\n",
       "    <tr style=\"text-align: right;\">\n",
       "      <th></th>\n",
       "      <th>period</th>\n",
       "      <th>price</th>\n",
       "    </tr>\n",
       "  </thead>\n",
       "  <tbody>\n",
       "    <tr>\n",
       "      <th>0</th>\n",
       "      <td>2023-04-13</td>\n",
       "      <td>14.722</td>\n",
       "    </tr>\n",
       "    <tr>\n",
       "      <th>1</th>\n",
       "      <td>2023-04-12</td>\n",
       "      <td>14.835</td>\n",
       "    </tr>\n",
       "    <tr>\n",
       "      <th>2</th>\n",
       "      <td>2023-04-11</td>\n",
       "      <td>14.915</td>\n",
       "    </tr>\n",
       "    <tr>\n",
       "      <th>3</th>\n",
       "      <td>2023-04-10</td>\n",
       "      <td>14.950</td>\n",
       "    </tr>\n",
       "    <tr>\n",
       "      <th>4</th>\n",
       "      <td>2023-04-07</td>\n",
       "      <td>14.941</td>\n",
       "    </tr>\n",
       "  </tbody>\n",
       "</table>\n",
       "</div>"
      ],
      "text/plain": [
       "      period   price\n",
       "0 2023-04-13  14.722\n",
       "1 2023-04-12  14.835\n",
       "2 2023-04-11  14.915\n",
       "3 2023-04-10  14.950\n",
       "4 2023-04-07  14.941"
      ]
     },
     "execution_count": 10,
     "metadata": {},
     "output_type": "execute_result"
    }
   ],
   "source": [
    "df['price'] = df['price'].str.replace('$1 = Rp', '', regex = False).str.replace(',', '.').astype('float64')\n",
    "df['period'] = df['period'].astype('datetime64')\n",
    "df = df.set_index('period')\n",
    "df.dtypes\n",
    "df.head()"
   ]
  },
  {
   "cell_type": "markdown",
   "metadata": {},
   "source": [
    "This code is used to clean and format data that has been extracted from a table on a webpage using web scraping techniques.\n",
    "\n",
    "- The code assumes that there is a pandas DataFrame object called **df** that contains two columns, 'price' and 'period'. The 'price' column contains values that have a format of \"$1 = Rp x,xxx.xx\", where 'x' represents a digit. The 'period' column contains date values in string format.\n",
    "\n",
    "- The first line of code uses the **str.replace()** method to replace the string \"$1 = Rp\" with an empty string in the 'price' column. It then replaces all commas in the 'price' column with a period using the same method. Finally, it converts the 'price' column to a float data type using the **astype()** method.\n",
    "\n",
    "- The second line of code uses the **astype()** method again to convert the 'period' column to a datetime data type.\n",
    "\n",
    "Overall, this code is used to clean and format data that has been extracted from a table on a webpage. By cleaning the data, it makes it easier to work with and analyze using various data analysis tools and techniques."
   ]
  },
  {
   "cell_type": "markdown",
   "metadata": {},
   "source": [
    "## Data visualisation"
   ]
  },
  {
   "cell_type": "code",
   "execution_count": 11,
   "metadata": {},
   "outputs": [
    {
     "data": {
      "image/png": "[encoded data removed]",
      "text/plain": [
       "<Figure size 640x480 with 1 Axes>"
      ]
     },
     "metadata": {},
     "output_type": "display_data"
    }
   ],
   "source": [
    "plt.plot(df['period'], df['price'])\n",
    "plt.xlabel('Period')\n",
    "plt.ylabel('Price (Rp)')\n",
    "plt.title('Price of X over Time')\n",
    "plt.show()"
   ]
  },
  {
   "cell_type": "markdown",
   "metadata": {},
   "source": [
    "This code is used to create a line plot using the **matplotlib** library. It assumes that there is a pandas DataFrame object called **df** that contains two columns, 'price' and 'period'.\n",
    "\n",
    "- The first line of code uses the **plot()** function from matplotlib to create a line plot of the 'price' column against the 'period' column of the DataFrame. The 'period' column is used as the x-axis and the 'price' column is used as the y-axis.\n",
    "\n",
    "- The second line of code uses the **xlabel()** function to add a label to the x-axis of the plot.\n",
    "\n",
    "- The third line of code uses the **ylabel()** function to add a label to the y-axis of the plot.\n",
    "\n",
    "- The fourth line of code uses the **title()** function to add a title to the plot.\n",
    "\n",
    "- Finally, the **show()** function is called to display the plot.\n",
    "\n",
    "Overall, this code is used to create a line plot of the 'price' column against the 'period' column of the DataFrame using the **matplotlib** library. The plot is then displayed using the **show()** function. This plot can be used to visually analyze the trend of the 'price' column over time, which can help in making informed decisions."
   ]
  },
  {
   "cell_type": "markdown",
   "metadata": {},
   "source": [
    "### Implementing your webscrapping to the flask dashboard\n",
    "\n",
    "- Copy paste all of your web scrapping process to the desired position on the `app.py`\n",
    "- Changing the title of the dasboard at `index.html`"
   ]
  },
  {
   "cell_type": "markdown",
   "metadata": {},
   "source": [
    "## Finishing This Notebook with Your Analysis and Conclusion"
   ]
  },
  {
   "cell_type": "markdown",
   "metadata": {},
   "source": [
    "With the provided code, we can get the following information from the graph:\n",
    "\n",
    "- The trend of the USD to IDR exchange rate over time.\n",
    "   - As you can see from the grapht above, the trend right now are in bearish trend or downtrend. from the 2022-11 to 2023-04 (6 month period)\n",
    "- The highest and lowest points of the exchange rate during the given time period.\n",
    "   - The highest Point are in 2022-11 : 15,790  Point\n",
    "   - The Lowest Point are in 2023-04 : \t14,722  Point\n",
    "- The general volatility of the exchange rate over time.\n",
    "   - The Highest Volality are in between period of 2023-01 to 2023-04, where the price swing move between 0 - 800 rupiah in just short period of time. Maybe it happen because there's an big event or anomaly in the market \n",
    "   - The Lowest Volality are in between period of 2022-11 to 2022-12, where the price is just bounce up between support (Rp 15,500) and resistance (Rp 15,800). This indicates that the market are on sideway\n",
    "- The frequency of changes in the exchange rate, whether it is fluctuating frequently or stable for certain periods of time."
   ]
  },
  {
   "cell_type": "markdown",
   "metadata": {},
   "source": [
    "### Implement it at the webapps\n",
    "\n",
    "- You can create additional analysis from the data.\n",
    "- Implement it to the dashboard with at `app.py` dan `index.html`."
   ]
  },
  {
   "cell_type": "code",
   "execution_count": null,
   "metadata": {},
   "outputs": [],
   "source": []
  }
 ],
 "metadata": {
  "kernelspec": {
   "display_name": "capstone_DA",
   "language": "python",
   "name": "capstone_da"
  },
  "language_info": {
   "codemirror_mode": {
    "name": "ipython",
    "version": 3
   },
   "file_extension": ".py",
   "mimetype": "text/x-python",
   "name": "python",
   "nbconvert_exporter": "python",
   "pygments_lexer": "ipython3",
   "version": "3.10.10"
  }
 },
 "nbformat": 4,
 "nbformat_minor": 2
}
